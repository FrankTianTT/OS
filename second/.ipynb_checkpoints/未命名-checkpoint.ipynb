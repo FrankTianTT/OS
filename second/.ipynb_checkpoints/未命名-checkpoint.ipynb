{
 "cells": [
  {
   "cell_type": "code",
   "execution_count": 6,
   "metadata": {},
   "outputs": [],
   "source": [
    "s = '''u16 numBytesPerSector;\n",
    "u8 numSectorsPerCluster;\n",
    "u16 numReservedSectors;\n",
    "u8 numFATs;\n",
    "u16 numRootDirectoryEntries;\n",
    "u16 numTotalSectors;\n",
    "u8 mediaDescriptor;\n",
    "u16 numSectorsPerFAT;'''\n",
    "\n",
    "s_s = s.split('\\n')"
   ]
  },
  {
   "cell_type": "code",
   "execution_count": 22,
   "metadata": {},
   "outputs": [
    {
     "name": "stdout",
     "output_type": "stream",
     "text": [
      "cout<<\"NumBytesPerSector\"<<NumBytesPerSector;\n",
      "cout<<\"NumSectorsPerCluster\"<<NumSectorsPerCluster;\n",
      "cout<<\"NumReservedSectors\"<<NumReservedSectors;\n",
      "cout<<\"NumFATs\"<<NumFATs;\n",
      "cout<<\"NumRootDirectoryEntries\"<<NumRootDirectoryEntries;\n",
      "cout<<\"NumTotalSectors\"<<NumTotalSectors;\n",
      "cout<<\"NediaDescriptor\"<<NediaDescriptor;\n",
      "cout<<\"NumSectorsPerFAT\"<<NumSectorsPerFAT;\n"
     ]
    }
   ],
   "source": [
    "for i in s_s:\n",
    "    ss = i.split(' ')\n",
    "    print(\"cout<<\" + r'\"'+\"N\" + ss[1][1:-1] + r'\"'+\"<<N\" + ss[1][1:-1] +\"<<endl;\")"
   ]
  }
 ],
 "metadata": {
  "kernelspec": {
   "display_name": "Python 3",
   "language": "python",
   "name": "python3"
  },
  "language_info": {
   "codemirror_mode": {
    "name": "ipython",
    "version": 3
   },
   "file_extension": ".py",
   "mimetype": "text/x-python",
   "name": "python",
   "nbconvert_exporter": "python",
   "pygments_lexer": "ipython3",
   "version": "3.6.12"
  }
 },
 "nbformat": 4,
 "nbformat_minor": 4
}
